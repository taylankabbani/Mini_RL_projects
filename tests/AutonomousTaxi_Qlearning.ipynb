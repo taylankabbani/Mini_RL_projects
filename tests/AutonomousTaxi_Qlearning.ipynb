{
 "cells": [
  {
   "cell_type": "code",
   "execution_count": 3,
   "source": [
    "import gym\r\n",
    "import numpy as np\r\n",
    "from IPython.display import clear_output\r\n",
    "import matplotlib.pyplot as plt\r\n",
    "import time"
   ],
   "outputs": [
    {
     "output_type": "stream",
     "name": "stderr",
     "text": [
      "Matplotlib is building the font cache; this may take a moment.\n"
     ]
    }
   ],
   "metadata": {}
  },
  {
   "cell_type": "code",
   "execution_count": 4,
   "source": [
    "env=gym.make('Taxi-v3')\r\n",
    "# Creating a Q-table where rows are states and columns are actions\r\n",
    "actions = env.action_space.n\r\n",
    "# Note that for other environments where states are infint (e.g. state is an array of pixels) the \r\n",
    "# number of states is not avialable rather you can get the shape of the state\r\n",
    "states = env.observation_space.n\r\n",
    "print(\"Number of actions: \",actions, \"\\nNumber of states: \", states) "
   ],
   "outputs": [
    {
     "output_type": "stream",
     "name": "stdout",
     "text": [
      "Number of actions:  6 \n",
      "Number of states:  500\n"
     ]
    }
   ],
   "metadata": {}
  },
  {
   "cell_type": "code",
   "execution_count": 5,
   "source": [
    "q_tabel = np.zeros((states, actions))\r\n",
    "rewards_episodes = []"
   ],
   "outputs": [],
   "metadata": {}
  },
  {
   "cell_type": "code",
   "execution_count": 6,
   "source": [
    "# Q-learning parameteres\r\n",
    "n_episodes = 10000\r\n",
    "max_steps_per_episode = np.inf # Till the agent loss\r\n",
    "gamma = 0.99\r\n",
    "lr_rate = 0.1"
   ],
   "outputs": [],
   "metadata": {}
  },
  {
   "cell_type": "markdown",
   "source": [
    "### Annealing Policy (Simulated Annealing for RL)\n",
    "#### Annealing policy computes a current threshold ($\\epsilon$) to be used in a given inner policy such as Epsilon Greedy policy where $\\epsilon$ decreases over time (episode) to shift the agent from more exploration to more exploitation.\n",
    "\n",
    "#### Some cooling rules:\n",
    "1. Exponential Annealing\n",
    "2. Linear Annealing"
   ],
   "metadata": {}
  },
  {
   "cell_type": "code",
   "execution_count": 7,
   "source": [
    "# Parameters\r\n",
    "intial_rate = 1 \r\n",
    "max_rate = 1\r\n",
    "min_rate = 0.01\r\n",
    "decay_rate = 0.001"
   ],
   "outputs": [],
   "metadata": {}
  },
  {
   "cell_type": "code",
   "execution_count": 8,
   "source": [
    "# Exponential Aneealing\r\n",
    "exploration_rate = lambda episode: min_rate + (max_rate - min_rate)* np.exp(-decay_rate*episode)\r\n",
    "episodes = np.arange(1,10000)\r\n",
    "exploration_rates = [exploration_rate(eps) for eps in episodes]\r\n",
    "plt.plot(episodes, exploration_rates)"
   ],
   "outputs": [
    {
     "output_type": "execute_result",
     "data": {
      "text/plain": [
       "[<matplotlib.lines.Line2D at 0x1d7eb2467c0>]"
      ]
     },
     "metadata": {},
     "execution_count": 8
    },
    {
     "output_type": "display_data",
     "data": {
      "text/plain": [
       "<Figure size 432x288 with 1 Axes>"
      ],
      "image/png": "[encoded data removed]"
     },
     "metadata": {
      "needs_background": "light"
     }
    }
   ],
   "metadata": {
    "scrolled": true
   }
  },
  {
   "cell_type": "code",
   "execution_count": 9,
   "source": [
    "#  Linear Annealing f(x) = ax + b\r\n",
    "nb_episodes = 10000\r\n",
    "a = -(max_rate - min_rate)/nb_episodes\r\n",
    "b = max_rate\r\n",
    "exploration_rate = lambda episode: max(min_rate, a * episode + b)\r\n",
    "exploration_rates = [exploration_rate(eps) for eps in episodes]\r\n",
    "plt.plot(episodes, exploration_rates)"
   ],
   "outputs": [
    {
     "output_type": "execute_result",
     "data": {
      "text/plain": [
       "[<matplotlib.lines.Line2D at 0x1d7eb1cb190>]"
      ]
     },
     "metadata": {},
     "execution_count": 9
    },
    {
     "output_type": "display_data",
     "data": {
      "text/plain": [
       "<Figure size 432x288 with 1 Axes>"
      ],
      "image/png": "[encoded data removed]"
     },
     "metadata": {
      "needs_background": "light"
     }
    }
   ],
   "metadata": {}
  },
  {
   "cell_type": "code",
   "execution_count": 10,
   "source": [
    "# Q-learning algorithm\r\n",
    "exploration_rate = 1 \r\n",
    "max_rate = 1\r\n",
    "min_rate = 0.01\r\n",
    "decay_rate = 0.001\r\n",
    "\r\n",
    "for episode in range(n_episodes):\r\n",
    "    state = env.reset() # Initial state\r\n",
    "    done = False\r\n",
    "    current_reward = 0\r\n",
    "    \r\n",
    "    while not done:\r\n",
    "        x = float(np.random.uniform(0,1))\r\n",
    "        if x > exploration_rate:\r\n",
    "            # Take the greedy action\r\n",
    "            action = np.argmax(q_tabel[state,:])\r\n",
    "        else:\r\n",
    "            # Explore\r\n",
    "            action = env.action_space.sample()\r\n",
    "            \r\n",
    "        # Take action\r\n",
    "        next_state, reward, done, info = env.step(action)\r\n",
    "        # Update\r\n",
    "        q_value = float(q_tabel[state, action])\r\n",
    "        max_q_prime = np.max(q_tabel[next_state,:])\r\n",
    "        TD_error = float(reward + gamma * max_q_prime - q_value)\r\n",
    "        q_tabel[state, action] = float(q_value + (lr_rate * TD_error))\r\n",
    "        \r\n",
    "        state = next_state\r\n",
    "        current_reward += reward\r\n",
    "    \r\n",
    "    # Exploration rate using Exp Annealing\r\n",
    "    exploration_rate = min_rate + (max_rate - min_rate)* \\\r\n",
    "                        np.exp(-decay_rate*episode)\r\n",
    "    rewards_episodes.append(current_reward)\r\n",
    "print(\"****** Training Finished ******\")"
   ],
   "outputs": [
    {
     "output_type": "stream",
     "name": "stdout",
     "text": [
      "****** Training Finished ******\n"
     ]
    }
   ],
   "metadata": {
    "scrolled": true
   }
  },
  {
   "cell_type": "code",
   "execution_count": 11,
   "source": [
    "# Results interpritation\r\n",
    "rewards_per_1000_eps = [np.average(r) for r in \r\n",
    "                        np.split(np.array(rewards_episodes), n_episodes/1000)]\r\n",
    "print(\"***** Average rewards per 1000 episodes *****\")\r\n",
    "count = 1000\r\n",
    "for r in rewards_per_1000_eps:\r\n",
    "    print(count, ' : ', r)\r\n",
    "    count += 1000\r\n",
    "    \r\n",
    "plt.plot(rewards_per_1000_eps)"
   ],
   "outputs": [
    {
     "output_type": "stream",
     "name": "stdout",
     "text": [
      "***** Average rewards per 1000 episodes *****\n",
      "1000  :  -355.474\n",
      "2000  :  -14.331\n",
      "3000  :  2.406\n",
      "4000  :  5.739\n",
      "5000  :  6.88\n",
      "6000  :  7.121\n",
      "7000  :  7.35\n",
      "8000  :  7.451\n",
      "9000  :  7.559\n",
      "10000  :  7.416\n"
     ]
    },
    {
     "output_type": "execute_result",
     "data": {
      "text/plain": [
       "[<matplotlib.lines.Line2D at 0x1d7eba43040>]"
      ]
     },
     "metadata": {},
     "execution_count": 11
    },
    {
     "output_type": "display_data",
     "data": {
      "text/plain": [
       "<Figure size 432x288 with 1 Axes>"
      ],
      "image/png": "[encoded data removed]"
     },
     "metadata": {
      "needs_background": "light"
     }
    }
   ],
   "metadata": {}
  },
  {
   "cell_type": "code",
   "execution_count": 12,
   "source": [
    "# Visualize Agent by playing\r\n",
    "env = gym.make('Taxi-v3')\r\n",
    "num_eps = 3\r\n",
    "\r\n",
    "def play(num_eps, env, q_table):\r\n",
    "    for episode in range(num_eps):\r\n",
    "        state = env.reset()\r\n",
    "        done = False\r\n",
    "        \r\n",
    "        print(\"**** Episode: \", episode+1, \"*****\")\r\n",
    "        score = 0\r\n",
    "        steps = 0\r\n",
    "        env.render()\r\n",
    "        time.sleep(1)\r\n",
    "        input(\"\\n\\n\\nPress Enter to take action...\") \r\n",
    "        clear_output(wait=False)\r\n",
    "        while not done:\r\n",
    "            action = np.argmax(q_tabel[state,:])\r\n",
    "            new_state, reward, done, info = env.step(action)\r\n",
    "            score += reward\r\n",
    "            steps += 1\r\n",
    "            \r\n",
    "            \r\n",
    "            print(f\"** q_value: {q_table[state,action]} **\")\r\n",
    "            print(f\"** Action Reward: {reward} **\")\r\n",
    "            print(f\"** Number of steps: {steps} **\")\r\n",
    "            print(f\"** Current Score: {score} **\")\r\n",
    "            if reward == 20:\r\n",
    "                print(\"##### Successful Dropoff #####\")\r\n",
    "            elif reward == -10:\r\n",
    "                print('##### Illegal pickup/dropoff action #####')\r\n",
    "            env.render()\r\n",
    "            input(\"\\n\\n\\nPress Enter to take action...\")\r\n",
    "\r\n",
    "            clear_output(wait=False)\r\n",
    "            state = new_state\r\n",
    "        print(f\"***** End of Episode {episode+1} *****\")\r\n",
    "        print(f\"** Score: {score} **\")\r\n",
    "        print(f\"** Total steps taken: {score} **\")\r\n",
    "        clear_output(wait=True)\r\n",
    "        time.sleep(3)\r\n",
    "    env.close()\r\n",
    "            \r\n",
    "                     \r\n",
    "env = gym.make('Taxi-v3')\r\n",
    "num_eps = 3\r\n",
    "\r\n",
    "play(num_eps=num_eps, env=env, q_table=q_tabel)\r\n",
    "      \r\n",
    "        \r\n",
    "        "
   ],
   "outputs": [
    {
     "output_type": "stream",
     "name": "stdout",
     "text": [
      "***** End of Episode 3 *****\n",
      "** Score: 10 **\n",
      "** Total steps taken: 10 **\n"
     ]
    }
   ],
   "metadata": {}
  }
 ],
 "metadata": {
  "interpreter": {
   "hash": "01219bb64445cf9f337ed459ba650a298ac96fe7af6579ce6ff0334af701ac17"
  },
  "kernelspec": {
   "name": "python3",
   "display_name": "Python 3.9.6 64-bit ('RL': conda)"
  },
  "language_info": {
   "codemirror_mode": {
    "name": "ipython",
    "version": 3
   },
   "file_extension": ".py",
   "mimetype": "text/x-python",
   "name": "python",
   "nbconvert_exporter": "python",
   "pygments_lexer": "ipython3",
   "version": "3.9.6"
  }
 },
 "nbformat": 4,
 "nbformat_minor": 5
}
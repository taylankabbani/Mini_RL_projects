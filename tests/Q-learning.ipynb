{
 "cells": [
  {
   "cell_type": "code",
   "execution_count": 1,
   "id": "7c8d7ea2",
   "metadata": {},
   "outputs": [],
   "source": [
    "import gym\n",
    "import numpy as np\n",
    "from IPython.display import clear_output\n",
    "import matplotlib.pyplot as plt\n",
    "env=gym.make('Taxi-v3')"
   ]
  },
  {
   "cell_type": "code",
   "execution_count": 82,
   "id": "34ee744a",
   "metadata": {},
   "outputs": [],
   "source": [
    "num_episodes = 10\n",
    "\n",
    "for episode in range (num_episodes):\n",
    "    state_0 = env.reset()\n",
    "    done = False # When true => the agent lost (the end of an episode)\n",
    "    score = 0\n",
    "    num_states_in_episode = 0 \n",
    "    while not done:\n",
    "        env.render() # To show how the agent interact with the env\n",
    "        action = env.action_space.sample() # take a random action\n",
    "        #returns the observations ensued from the agent-env interaction\n",
    "        state, reward, done, info = env.step(action)\n",
    "        score += reward\n",
    "        clear_output(wait=True)\n",
    "    print(f\"Episode: {episode}, Score: {score}\")\n",
    "env.close()"
   ]
  },
  {
   "cell_type": "code",
   "execution_count": 2,
   "id": "a78b5f5f",
   "metadata": {},
   "outputs": [
    {
     "name": "stdout",
     "output_type": "stream",
     "text": [
      "6 500\n"
     ]
    }
   ],
   "source": [
    "# Creating a Q-table where rows are states and columns are actions\n",
    "actions = env.action_space.n\n",
    "# Note that for other environments where states are infint (e.g. state is an array of pixels) the \n",
    "# number of states is not avialable rather you can get the shape of the state\n",
    "states = env.observation_space.n\n",
    "print(actions, states)"
   ]
  },
  {
   "cell_type": "code",
   "execution_count": 3,
   "id": "b6f17c42",
   "metadata": {},
   "outputs": [],
   "source": [
    "q_tabel = np.zeros((states, actions))\n",
    "rewards_episodes = []"
   ]
  },
  {
   "cell_type": "code",
   "execution_count": 4,
   "id": "93c3577c",
   "metadata": {},
   "outputs": [],
   "source": [
    "# Q-learning parameteres\n",
    "n_episodes = 10000\n",
    "max_steps_per_episode = np.inf # Till the agent loss\n",
    "gamma = 0.99\n",
    "lr_rate = 0.1"
   ]
  },
  {
   "cell_type": "markdown",
   "id": "b4f7a1fe",
   "metadata": {},
   "source": [
    "### Annealing Policy (Simulated Annealing for RL)\n",
    "#### Annealing policy computes a current threshold ($\\epsilon$) to be used in a given inner policy such as Epsilon Greedy policy #### where $\\epsilon$ decreases over time (episode) to shift the agent from more exploration to more exploitation.\n",
    "\n",
    "#### Some cooling rules:\n",
    "1. Exponential Annealing\n",
    "2. Linear Annealing"
   ]
  },
  {
   "cell_type": "code",
   "execution_count": 138,
   "id": "8d9209cb",
   "metadata": {},
   "outputs": [],
   "source": [
    "# Parameters\n",
    "intial_rate = 1 \n",
    "max_rate = 1\n",
    "min_rate = 0.01\n",
    "decay_rate = 0.001"
   ]
  },
  {
   "cell_type": "code",
   "execution_count": 151,
   "id": "6e7fb954",
   "metadata": {
    "scrolled": true
   },
   "outputs": [
    {
     "data": {
      "text/plain": [
       "[<matplotlib.lines.Line2D at 0x7f34fa9dda00>]"
      ]
     },
     "execution_count": 151,
     "metadata": {},
     "output_type": "execute_result"
    },
    {
     "data": {
      "image/png": "[encoded data removed]",
      "text/plain": [
       "<Figure size 432x288 with 1 Axes>"
      ]
     },
     "metadata": {
      "needs_background": "light"
     },
     "output_type": "display_data"
    }
   ],
   "source": [
    "# Exponential Aneealing\n",
    "exploration_rate = lambda episode: min_rate + (max_rate - min_rate)* np.exp(-decay_rate*episode)\n",
    "episodes = np.arange(1,10000)\n",
    "exploration_rates = [exploration_rate(eps) for eps in episodes]\n",
    "plt.plot(episodes, exploration_rates)"
   ]
  },
  {
   "cell_type": "code",
   "execution_count": 154,
   "id": "026e9731",
   "metadata": {},
   "outputs": [
    {
     "data": {
      "text/plain": [
       "[<matplotlib.lines.Line2D at 0x7f34fa844700>]"
      ]
     },
     "execution_count": 154,
     "metadata": {},
     "output_type": "execute_result"
    },
    {
     "data": {
      "image/png": "[encoded data removed]",
      "text/plain": [
       "<Figure size 432x288 with 1 Axes>"
      ]
     },
     "metadata": {
      "needs_background": "light"
     },
     "output_type": "display_data"
    }
   ],
   "source": [
    "#  Linear Annealing f(x) = ax + b\n",
    "nb_episodes = 10000\n",
    "a = -(max_rate - min_rate)/nb_episodes\n",
    "b = max_rate\n",
    "exploration_rate = lambda episode: max(min_rate, a * episode + b)\n",
    "exploration_rates = [exploration_rate(eps) for eps in episodes]\n",
    "plt.plot(episodes, exploration_rates)"
   ]
  },
  {
   "cell_type": "code",
   "execution_count": 5,
   "id": "bb948ec8",
   "metadata": {
    "scrolled": true
   },
   "outputs": [
    {
     "name": "stdout",
     "output_type": "stream",
     "text": [
      "****** Training Finished ******\n"
     ]
    }
   ],
   "source": [
    "# Q-learning algorithm\n",
    "exploration_rate = 1 \n",
    "max_rate = 1\n",
    "min_rate = 0.01\n",
    "decay_rate = 0.001\n",
    "\n",
    "for episode in range(n_episodes):\n",
    "    state = env.reset() # Initial state\n",
    "    done = False\n",
    "    current_reward = 0\n",
    "    \n",
    "    while not done:\n",
    "        x = float(np.random.uniform(0,1))\n",
    "        if x > exploration_rate:\n",
    "            # Take the greedy action\n",
    "            action = np.argmax(q_tabel[state,:])\n",
    "        else:\n",
    "            # Explore\n",
    "            action = env.action_space.sample()\n",
    "            \n",
    "        # Take action\n",
    "        next_state, reward, done, info = env.step(action)\n",
    "        # Update\n",
    "        q_value = float(q_tabel[state, action])\n",
    "        max_q_prime = np.max(q_tabel[next_state,:])\n",
    "        TD_error = float(reward + gamma * max_q_prime - q_value)\n",
    "        q_tabel[state, action] = float(q_value + (lr_rate * TD_error))\n",
    "        \n",
    "        state = next_state\n",
    "        current_reward += reward\n",
    "    \n",
    "    # Exploration rate using Exp Annealing\n",
    "    exploration_rate = min_rate + (max_rate - min_rate)* \\\n",
    "                        np.exp(-decay_rate*episode)\n",
    "    rewards_episodes.append(current_reward)\n",
    "print(\"****** Training Finished ******\")"
   ]
  },
  {
   "cell_type": "code",
   "execution_count": 25,
   "id": "6fed2e33",
   "metadata": {},
   "outputs": [
    {
     "name": "stdout",
     "output_type": "stream",
     "text": [
      "***** Average rewards per 1000 episodes *****\n",
      "1000  :  -356.875\n",
      "2000  :  -16.844\n",
      "3000  :  2.542\n",
      "4000  :  5.919\n",
      "5000  :  6.862\n",
      "6000  :  7.366\n",
      "7000  :  7.579\n",
      "8000  :  7.468\n",
      "9000  :  7.419\n",
      "10000  :  7.267\n"
     ]
    },
    {
     "data": {
      "text/plain": [
       "[<matplotlib.lines.Line2D at 0x7f67e6b00400>]"
      ]
     },
     "execution_count": 25,
     "metadata": {},
     "output_type": "execute_result"
    },
    {
     "data": {
      "image/png": "[encoded data removed]",
      "text/plain": [
       "<Figure size 432x288 with 1 Axes>"
      ]
     },
     "metadata": {
      "needs_background": "light"
     },
     "output_type": "display_data"
    }
   ],
   "source": [
    "# Results interpritation\n",
    "rewards_per_1000_eps = [np.average(r) for r in \n",
    "                        np.split(np.array(rewards_episodes), n_episodes/1000)]\n",
    "print(\"***** Average rewards per 1000 episodes *****\")\n",
    "count = 1000\n",
    "for r in rewards_per_1000_eps:\n",
    "    print(count, ' : ', r)\n",
    "    count += 1000\n",
    "    \n",
    "plt.plot(rewards_per_1000_eps)"
   ]
  },
  {
   "cell_type": "code",
   "execution_count": 19,
   "id": "64e77253",
   "metadata": {},
   "outputs": [
    {
     "data": {
      "text/plain": [
       "range(1000, 10000, 1000)"
      ]
     },
     "execution_count": 19,
     "metadata": {},
     "output_type": "execute_result"
    }
   ],
   "source": [
    "\n",
    "count"
   ]
  },
  {
   "cell_type": "code",
   "execution_count": null,
   "id": "73a99a54",
   "metadata": {},
   "outputs": [],
   "source": []
  }
 ],
 "metadata": {
  "kernelspec": {
   "display_name": "Python 3 (ipykernel)",
   "language": "python",
   "name": "python3"
  },
  "language_info": {
   "codemirror_mode": {
    "name": "ipython",
    "version": 3
   },
   "file_extension": ".py",
   "mimetype": "text/x-python",
   "name": "python",
   "nbconvert_exporter": "python",
   "pygments_lexer": "ipython3",
   "version": "3.8.8"
  }
 },
 "nbformat": 4,
 "nbformat_minor": 5
}
